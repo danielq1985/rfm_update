{
 "cells": [
  {
   "cell_type": "markdown",
   "metadata": {},
   "source": [
    "# RFM Customer Analysis"
   ]
  },
  {
   "cell_type": "markdown",
   "metadata": {},
   "source": [
    "## Setup/Dependencies "
   ]
  },
  {
   "cell_type": "code",
   "execution_count": 2,
   "metadata": {},
   "outputs": [],
   "source": [
    "import pandas as pd\n",
    "import datetime\n",
    "from datetime import date\n",
    "import matplotlib.pyplot as plt\n",
    "%matplotlib inline\n",
    "import seaborn as sns\n",
    "\n",
    "# disable chained assignments\n",
    "pd.options.mode.chained_assignment = None "
   ]
  },
  {
   "cell_type": "code",
   "execution_count": 3,
   "metadata": {},
   "outputs": [
    {
     "name": "stderr",
     "output_type": "stream",
     "text": [
      "/home/daniel/anaconda3/lib/python3.8/site-packages/openpyxl/styles/stylesheet.py:226: UserWarning: Workbook contains no default style, apply openpyxl's default\n",
      "  warn(\"Workbook contains no default style, apply openpyxl's default\")\n"
     ]
    }
   ],
   "source": [
    "# Load our data\n",
    "df = pd.read_excel('jobs.xlsx')"
   ]
  },
  {
   "cell_type": "markdown",
   "metadata": {},
   "source": [
    "## Clean/Explore/Sort Data"
   ]
  },
  {
   "cell_type": "code",
   "execution_count": 4,
   "metadata": {},
   "outputs": [
    {
     "name": "stderr",
     "output_type": "stream",
     "text": [
      "/tmp/ipykernel_17718/1841012716.py:2: FutureWarning: The default value of regex will change from True to False in a future version. In addition, single character regular expressions will *not* be treated as literal strings when regex=True.\n",
      "  df.columns = df.columns.str.strip().str.lower().str.replace(' ', '_')\\\n"
     ]
    }
   ],
   "source": [
    "# Clean up column names\n",
    "df.columns = df.columns.str.strip().str.lower().str.replace(' ', '_')\\\n",
    "            .str.replace('(', '')\\\n",
    "            .str.replace(')', '')\\\n",
    "            .str.replace('#', 'number')"
   ]
  },
  {
   "cell_type": "code",
   "execution_count": 5,
   "metadata": {
    "scrolled": true
   },
   "outputs": [
    {
     "data": {
      "text/plain": [
       "job_number                     int64\n",
       "job_type                      object\n",
       "job_campaign                  object\n",
       "campaign_category             object\n",
       "business_unit                 object\n",
       "invoice_number                 int64\n",
       "jobs_total                   float64\n",
       "completion_date       datetime64[ns]\n",
       "job_class                     object\n",
       "summary                       object\n",
       "customer_id                    int64\n",
       "customer_name                 object\n",
       "primary_technician            object\n",
       "dtype: object"
      ]
     },
     "execution_count": 5,
     "metadata": {},
     "output_type": "execute_result"
    }
   ],
   "source": [
    "# What are our datatypes?\n",
    "df.dtypes"
   ]
  },
  {
   "cell_type": "code",
   "execution_count": 6,
   "metadata": {},
   "outputs": [
    {
     "data": {
      "text/plain": [
       "(16253, 13)"
      ]
     },
     "execution_count": 6,
     "metadata": {},
     "output_type": "execute_result"
    }
   ],
   "source": [
    "# What is the shape of our data?\n",
    "df.shape"
   ]
  },
  {
   "cell_type": "code",
   "execution_count": 7,
   "metadata": {},
   "outputs": [
    {
     "data": {
      "text/plain": [
       "True"
      ]
     },
     "execution_count": 7,
     "metadata": {},
     "output_type": "execute_result"
    }
   ],
   "source": [
    "# Any null vales?\n",
    "df.isnull().values.any()"
   ]
  },
  {
   "cell_type": "code",
   "execution_count": 8,
   "metadata": {},
   "outputs": [
    {
     "data": {
      "text/plain": [
       "job_number                0\n",
       "job_type                  0\n",
       "job_campaign              0\n",
       "campaign_category     16243\n",
       "business_unit             0\n",
       "invoice_number            0\n",
       "jobs_total                0\n",
       "completion_date           0\n",
       "job_class             12431\n",
       "summary               12324\n",
       "customer_id               0\n",
       "customer_name             0\n",
       "primary_technician       64\n",
       "dtype: int64"
      ]
     },
     "execution_count": 8,
     "metadata": {},
     "output_type": "execute_result"
    }
   ],
   "source": [
    "# How many null values and which columns?\n",
    "df.isnull().sum()"
   ]
  },
  {
   "cell_type": "code",
   "execution_count": 9,
   "metadata": {},
   "outputs": [],
   "source": [
    "# For this RFM analysis the columns that are showing null values are not usefull\n",
    "# We DO NOT want to drop the entire row\n",
    "# If there were null values in a usefull column we would use:\n",
    "# df['DataFrame Column'] = df['DataFrame Column'].fillna(0)"
   ]
  },
  {
   "cell_type": "code",
   "execution_count": 10,
   "metadata": {},
   "outputs": [],
   "source": [
    "# Convert completion dates to pd date time\n",
    "df['completion_date'] = pd.to_datetime(df.completion_date)\n",
    "\n",
    "# Index DF with 'completion_date' and sort ascending\n",
    "df = df.sort_values(by='completion_date', ascending=True)\n",
    "df = df.set_index(df['completion_date'])"
   ]
  },
  {
   "cell_type": "markdown",
   "metadata": {},
   "source": [
    "## RFM Code"
   ]
  },
  {
   "cell_type": "code",
   "execution_count": 11,
   "metadata": {},
   "outputs": [],
   "source": [
    "# Create today datetime variable\n",
    "today = datetime.date.today()"
   ]
  },
  {
   "cell_type": "code",
   "execution_count": 12,
   "metadata": {},
   "outputs": [
    {
     "data": {
      "text/html": [
       "<div>\n",
       "<style scoped>\n",
       "    .dataframe tbody tr th:only-of-type {\n",
       "        vertical-align: middle;\n",
       "    }\n",
       "\n",
       "    .dataframe tbody tr th {\n",
       "        vertical-align: top;\n",
       "    }\n",
       "\n",
       "    .dataframe thead th {\n",
       "        text-align: right;\n",
       "    }\n",
       "</style>\n",
       "<table border=\"1\" class=\"dataframe\">\n",
       "  <thead>\n",
       "    <tr style=\"text-align: right;\">\n",
       "      <th></th>\n",
       "      <th>completion_date</th>\n",
       "      <th>customer_id</th>\n",
       "      <th>job_number</th>\n",
       "      <th>jobs_total</th>\n",
       "    </tr>\n",
       "    <tr>\n",
       "      <th>completion_date</th>\n",
       "      <th></th>\n",
       "      <th></th>\n",
       "      <th></th>\n",
       "      <th></th>\n",
       "    </tr>\n",
       "  </thead>\n",
       "  <tbody>\n",
       "    <tr>\n",
       "      <th>2018-06-01</th>\n",
       "      <td>2018-06-01</td>\n",
       "      <td>9931896</td>\n",
       "      <td>50064</td>\n",
       "      <td>49.0</td>\n",
       "    </tr>\n",
       "  </tbody>\n",
       "</table>\n",
       "</div>"
      ],
      "text/plain": [
       "                completion_date  customer_id  job_number  jobs_total\n",
       "completion_date                                                     \n",
       "2018-06-01           2018-06-01      9931896       50064        49.0"
      ]
     },
     "execution_count": 12,
     "metadata": {},
     "output_type": "execute_result"
    }
   ],
   "source": [
    "# Create main DF, and only what columns we need\n",
    "rfm = df[['completion_date', 'customer_id', 'job_number', 'jobs_total']]\n",
    "rfm.head(1)"
   ]
  },
  {
   "cell_type": "code",
   "execution_count": 13,
   "metadata": {},
   "outputs": [
    {
     "data": {
      "text/html": [
       "<div>\n",
       "<style scoped>\n",
       "    .dataframe tbody tr th:only-of-type {\n",
       "        vertical-align: middle;\n",
       "    }\n",
       "\n",
       "    .dataframe tbody tr th {\n",
       "        vertical-align: top;\n",
       "    }\n",
       "\n",
       "    .dataframe thead th {\n",
       "        text-align: right;\n",
       "    }\n",
       "</style>\n",
       "<table border=\"1\" class=\"dataframe\">\n",
       "  <thead>\n",
       "    <tr style=\"text-align: right;\">\n",
       "      <th></th>\n",
       "      <th>completion_date</th>\n",
       "      <th>customer_id</th>\n",
       "      <th>job_number</th>\n",
       "      <th>jobs_total</th>\n",
       "      <th>recency</th>\n",
       "    </tr>\n",
       "    <tr>\n",
       "      <th>completion_date</th>\n",
       "      <th></th>\n",
       "      <th></th>\n",
       "      <th></th>\n",
       "      <th></th>\n",
       "      <th></th>\n",
       "    </tr>\n",
       "  </thead>\n",
       "  <tbody>\n",
       "    <tr>\n",
       "      <th>2018-06-01</th>\n",
       "      <td>2018-06-01</td>\n",
       "      <td>9931896</td>\n",
       "      <td>50064</td>\n",
       "      <td>49.0</td>\n",
       "      <td>1258 days</td>\n",
       "    </tr>\n",
       "  </tbody>\n",
       "</table>\n",
       "</div>"
      ],
      "text/plain": [
       "                completion_date  customer_id  job_number  jobs_total   recency\n",
       "completion_date                                                               \n",
       "2018-06-01           2018-06-01      9931896       50064        49.0 1258 days"
      ]
     },
     "execution_count": 13,
     "metadata": {},
     "output_type": "execute_result"
    }
   ],
   "source": [
    "# Recency in RFM DF\n",
    "rfm['recency'] = pd.to_datetime(today) - pd.to_datetime(rfm.completion_date)\n",
    "rfm.head(1)"
   ]
  },
  {
   "cell_type": "code",
   "execution_count": 14,
   "metadata": {},
   "outputs": [
    {
     "data": {
      "text/html": [
       "<div>\n",
       "<style scoped>\n",
       "    .dataframe tbody tr th:only-of-type {\n",
       "        vertical-align: middle;\n",
       "    }\n",
       "\n",
       "    .dataframe tbody tr th {\n",
       "        vertical-align: top;\n",
       "    }\n",
       "\n",
       "    .dataframe thead th {\n",
       "        text-align: right;\n",
       "    }\n",
       "</style>\n",
       "<table border=\"1\" class=\"dataframe\">\n",
       "  <thead>\n",
       "    <tr style=\"text-align: right;\">\n",
       "      <th></th>\n",
       "      <th>customer_id</th>\n",
       "      <th>recency</th>\n",
       "    </tr>\n",
       "  </thead>\n",
       "  <tbody>\n",
       "    <tr>\n",
       "      <th>0</th>\n",
       "      <td>9931872</td>\n",
       "      <td>215 days</td>\n",
       "    </tr>\n",
       "  </tbody>\n",
       "</table>\n",
       "</div>"
      ],
      "text/plain": [
       "   customer_id  recency\n",
       "0      9931872 215 days"
      ]
     },
     "execution_count": 14,
     "metadata": {},
     "output_type": "execute_result"
    }
   ],
   "source": [
    "# Create Recency DF using min, when were we there last?\n",
    "rfm_r = rfm.groupby(['customer_id']).recency.min().reset_index()\n",
    "rfm_r.head(1)"
   ]
  },
  {
   "cell_type": "code",
   "execution_count": 15,
   "metadata": {},
   "outputs": [
    {
     "data": {
      "text/html": [
       "<div>\n",
       "<style scoped>\n",
       "    .dataframe tbody tr th:only-of-type {\n",
       "        vertical-align: middle;\n",
       "    }\n",
       "\n",
       "    .dataframe tbody tr th {\n",
       "        vertical-align: top;\n",
       "    }\n",
       "\n",
       "    .dataframe thead th {\n",
       "        text-align: right;\n",
       "    }\n",
       "</style>\n",
       "<table border=\"1\" class=\"dataframe\">\n",
       "  <thead>\n",
       "    <tr style=\"text-align: right;\">\n",
       "      <th></th>\n",
       "      <th>customer_id</th>\n",
       "      <th>job_number</th>\n",
       "    </tr>\n",
       "  </thead>\n",
       "  <tbody>\n",
       "    <tr>\n",
       "      <th>0</th>\n",
       "      <td>9931872</td>\n",
       "      <td>2</td>\n",
       "    </tr>\n",
       "  </tbody>\n",
       "</table>\n",
       "</div>"
      ],
      "text/plain": [
       "   customer_id  job_number\n",
       "0      9931872           2"
      ]
     },
     "execution_count": 15,
     "metadata": {},
     "output_type": "execute_result"
    }
   ],
   "source": [
    "# Create Frequency DF, how many jobs were completed?\n",
    "rfm_f = rfm.groupby('customer_id').job_number.count().reset_index()\n",
    "rfm_f.head(1)"
   ]
  },
  {
   "cell_type": "code",
   "execution_count": 16,
   "metadata": {},
   "outputs": [
    {
     "data": {
      "text/html": [
       "<div>\n",
       "<style scoped>\n",
       "    .dataframe tbody tr th:only-of-type {\n",
       "        vertical-align: middle;\n",
       "    }\n",
       "\n",
       "    .dataframe tbody tr th {\n",
       "        vertical-align: top;\n",
       "    }\n",
       "\n",
       "    .dataframe thead th {\n",
       "        text-align: right;\n",
       "    }\n",
       "</style>\n",
       "<table border=\"1\" class=\"dataframe\">\n",
       "  <thead>\n",
       "    <tr style=\"text-align: right;\">\n",
       "      <th></th>\n",
       "      <th>customer_id</th>\n",
       "      <th>jobs_total</th>\n",
       "    </tr>\n",
       "  </thead>\n",
       "  <tbody>\n",
       "    <tr>\n",
       "      <th>0</th>\n",
       "      <td>9931872</td>\n",
       "      <td>384.4</td>\n",
       "    </tr>\n",
       "  </tbody>\n",
       "</table>\n",
       "</div>"
      ],
      "text/plain": [
       "   customer_id  jobs_total\n",
       "0      9931872       384.4"
      ]
     },
     "execution_count": 16,
     "metadata": {},
     "output_type": "execute_result"
    }
   ],
   "source": [
    "# How much money has this customer spent with us? \n",
    "rfm_m = rfm.groupby('customer_id').jobs_total.sum().reset_index()\n",
    "rfm_m.head(1)"
   ]
  },
  {
   "cell_type": "code",
   "execution_count": 17,
   "metadata": {},
   "outputs": [
    {
     "data": {
      "text/html": [
       "<div>\n",
       "<style scoped>\n",
       "    .dataframe tbody tr th:only-of-type {\n",
       "        vertical-align: middle;\n",
       "    }\n",
       "\n",
       "    .dataframe tbody tr th {\n",
       "        vertical-align: top;\n",
       "    }\n",
       "\n",
       "    .dataframe thead th {\n",
       "        text-align: right;\n",
       "    }\n",
       "</style>\n",
       "<table border=\"1\" class=\"dataframe\">\n",
       "  <thead>\n",
       "    <tr style=\"text-align: right;\">\n",
       "      <th></th>\n",
       "      <th>customer_id</th>\n",
       "      <th>recency</th>\n",
       "      <th>job_number</th>\n",
       "      <th>jobs_total</th>\n",
       "    </tr>\n",
       "  </thead>\n",
       "  <tbody>\n",
       "    <tr>\n",
       "      <th>0</th>\n",
       "      <td>9931872</td>\n",
       "      <td>215 days</td>\n",
       "      <td>2</td>\n",
       "      <td>384.4</td>\n",
       "    </tr>\n",
       "    <tr>\n",
       "      <th>1</th>\n",
       "      <td>9931873</td>\n",
       "      <td>84 days</td>\n",
       "      <td>26</td>\n",
       "      <td>4232.5</td>\n",
       "    </tr>\n",
       "    <tr>\n",
       "      <th>2</th>\n",
       "      <td>9931874</td>\n",
       "      <td>582 days</td>\n",
       "      <td>2</td>\n",
       "      <td>551.4</td>\n",
       "    </tr>\n",
       "    <tr>\n",
       "      <th>3</th>\n",
       "      <td>9931875</td>\n",
       "      <td>162 days</td>\n",
       "      <td>4</td>\n",
       "      <td>197.0</td>\n",
       "    </tr>\n",
       "    <tr>\n",
       "      <th>4</th>\n",
       "      <td>9931876</td>\n",
       "      <td>183 days</td>\n",
       "      <td>4</td>\n",
       "      <td>517.8</td>\n",
       "    </tr>\n",
       "  </tbody>\n",
       "</table>\n",
       "</div>"
      ],
      "text/plain": [
       "   customer_id  recency  job_number  jobs_total\n",
       "0      9931872 215 days           2       384.4\n",
       "1      9931873  84 days          26      4232.5\n",
       "2      9931874 582 days           2       551.4\n",
       "3      9931875 162 days           4       197.0\n",
       "4      9931876 183 days           4       517.8"
      ]
     },
     "execution_count": 17,
     "metadata": {},
     "output_type": "execute_result"
    }
   ],
   "source": [
    "## Merge DFs and created RFMF\n",
    "rfmf = rfm_r.merge(rfm_f, on = 'customer_id', how = 'outer').merge(rfm_m, on = 'customer_id', how = 'outer')\n",
    "rfmf.head()"
   ]
  },
  {
   "cell_type": "code",
   "execution_count": 18,
   "metadata": {},
   "outputs": [
    {
     "data": {
      "text/html": [
       "<div>\n",
       "<style scoped>\n",
       "    .dataframe tbody tr th:only-of-type {\n",
       "        vertical-align: middle;\n",
       "    }\n",
       "\n",
       "    .dataframe tbody tr th {\n",
       "        vertical-align: top;\n",
       "    }\n",
       "\n",
       "    .dataframe thead th {\n",
       "        text-align: right;\n",
       "    }\n",
       "</style>\n",
       "<table border=\"1\" class=\"dataframe\">\n",
       "  <thead>\n",
       "    <tr style=\"text-align: right;\">\n",
       "      <th></th>\n",
       "      <th>customer_id</th>\n",
       "      <th>recency</th>\n",
       "      <th>frequency</th>\n",
       "      <th>monetary</th>\n",
       "    </tr>\n",
       "  </thead>\n",
       "  <tbody>\n",
       "    <tr>\n",
       "      <th>0</th>\n",
       "      <td>9931872</td>\n",
       "      <td>215 days</td>\n",
       "      <td>2</td>\n",
       "      <td>384.4</td>\n",
       "    </tr>\n",
       "  </tbody>\n",
       "</table>\n",
       "</div>"
      ],
      "text/plain": [
       "   customer_id  recency  frequency  monetary\n",
       "0      9931872 215 days          2     384.4"
      ]
     },
     "execution_count": 18,
     "metadata": {},
     "output_type": "execute_result"
    }
   ],
   "source": [
    "# Update column names\n",
    "rfmf.columns = ['customer_id', 'recency', 'frequency', 'monetary']\n",
    "rfmf.head(1)"
   ]
  },
  {
   "cell_type": "code",
   "execution_count": 19,
   "metadata": {},
   "outputs": [
    {
     "data": {
      "text/html": [
       "<div>\n",
       "<style scoped>\n",
       "    .dataframe tbody tr th:only-of-type {\n",
       "        vertical-align: middle;\n",
       "    }\n",
       "\n",
       "    .dataframe tbody tr th {\n",
       "        vertical-align: top;\n",
       "    }\n",
       "\n",
       "    .dataframe thead th {\n",
       "        text-align: right;\n",
       "    }\n",
       "</style>\n",
       "<table border=\"1\" class=\"dataframe\">\n",
       "  <thead>\n",
       "    <tr style=\"text-align: right;\">\n",
       "      <th></th>\n",
       "      <th>customer_id</th>\n",
       "      <th>recency</th>\n",
       "      <th>frequency</th>\n",
       "      <th>monetary</th>\n",
       "      <th>r_percentile</th>\n",
       "      <th>r_score</th>\n",
       "      <th>f_percentile</th>\n",
       "      <th>f_score</th>\n",
       "      <th>m_percentile</th>\n",
       "      <th>m_score</th>\n",
       "    </tr>\n",
       "  </thead>\n",
       "  <tbody>\n",
       "    <tr>\n",
       "      <th>0</th>\n",
       "      <td>9931872</td>\n",
       "      <td>215 days</td>\n",
       "      <td>2</td>\n",
       "      <td>384.4</td>\n",
       "      <td>0.571186</td>\n",
       "      <td>2</td>\n",
       "      <td>0.482776</td>\n",
       "      <td>3</td>\n",
       "      <td>0.509927</td>\n",
       "      <td>2</td>\n",
       "    </tr>\n",
       "    <tr>\n",
       "      <th>1</th>\n",
       "      <td>9931873</td>\n",
       "      <td>84 days</td>\n",
       "      <td>26</td>\n",
       "      <td>4232.5</td>\n",
       "      <td>0.947395</td>\n",
       "      <td>1</td>\n",
       "      <td>0.999830</td>\n",
       "      <td>1</td>\n",
       "      <td>0.978619</td>\n",
       "      <td>1</td>\n",
       "    </tr>\n",
       "    <tr>\n",
       "      <th>2</th>\n",
       "      <td>9931874</td>\n",
       "      <td>582 days</td>\n",
       "      <td>2</td>\n",
       "      <td>551.4</td>\n",
       "      <td>0.321568</td>\n",
       "      <td>3</td>\n",
       "      <td>0.482946</td>\n",
       "      <td>3</td>\n",
       "      <td>0.603767</td>\n",
       "      <td>2</td>\n",
       "    </tr>\n",
       "    <tr>\n",
       "      <th>3</th>\n",
       "      <td>9931875</td>\n",
       "      <td>162 days</td>\n",
       "      <td>4</td>\n",
       "      <td>197.0</td>\n",
       "      <td>0.730528</td>\n",
       "      <td>2</td>\n",
       "      <td>0.738334</td>\n",
       "      <td>2</td>\n",
       "      <td>0.365009</td>\n",
       "      <td>3</td>\n",
       "    </tr>\n",
       "    <tr>\n",
       "      <th>4</th>\n",
       "      <td>9931876</td>\n",
       "      <td>183 days</td>\n",
       "      <td>4</td>\n",
       "      <td>517.8</td>\n",
       "      <td>0.661632</td>\n",
       "      <td>2</td>\n",
       "      <td>0.738503</td>\n",
       "      <td>2</td>\n",
       "      <td>0.586119</td>\n",
       "      <td>2</td>\n",
       "    </tr>\n",
       "  </tbody>\n",
       "</table>\n",
       "</div>"
      ],
      "text/plain": [
       "   customer_id  recency  frequency  monetary  r_percentile r_score  \\\n",
       "0      9931872 215 days          2     384.4      0.571186       2   \n",
       "1      9931873  84 days         26    4232.5      0.947395       1   \n",
       "2      9931874 582 days          2     551.4      0.321568       3   \n",
       "3      9931875 162 days          4     197.0      0.730528       2   \n",
       "4      9931876 183 days          4     517.8      0.661632       2   \n",
       "\n",
       "   f_percentile f_score  m_percentile m_score  \n",
       "0      0.482776       3      0.509927       2  \n",
       "1      0.999830       1      0.978619       1  \n",
       "2      0.482946       3      0.603767       2  \n",
       "3      0.738334       2      0.365009       3  \n",
       "4      0.738503       2      0.586119       2  "
      ]
     },
     "execution_count": 19,
     "metadata": {},
     "output_type": "execute_result"
    }
   ],
   "source": [
    "# Create percentile, slicing dfs into 4ths, then giving each customer a score\n",
    "rfmf['r_percentile'] = rfmf['recency'].rank(method='first', pct=True,ascending=False)\n",
    "rfmf['r_score'] = pd.qcut(rfmf['r_percentile'], 4, labels=range(4,0,-1))\n",
    "rfmf['f_percentile'] = rfmf['frequency'].rank(method='first', pct=True,ascending=True)\n",
    "rfmf['f_score'] = pd.qcut(rfmf['f_percentile'], 4, labels=range(4,0,-1))\n",
    "rfmf['m_percentile'] = rfmf['monetary'].rank(method='first', pct=True,ascending=True)\n",
    "rfmf['m_score'] = pd.qcut(rfmf['m_percentile'], 4, labels=range(4,0,-1))\n",
    "\n",
    "rfmf.head()"
   ]
  },
  {
   "cell_type": "code",
   "execution_count": 20,
   "metadata": {},
   "outputs": [],
   "source": [
    "# Drop unneeded columns\n",
    "columns1 = ['r_percentile', 'f_percentile', 'm_percentile']\n",
    "rfmf.drop(columns1, inplace=True, axis=1)"
   ]
  },
  {
   "cell_type": "code",
   "execution_count": 21,
   "metadata": {},
   "outputs": [
    {
     "data": {
      "text/html": [
       "<div>\n",
       "<style scoped>\n",
       "    .dataframe tbody tr th:only-of-type {\n",
       "        vertical-align: middle;\n",
       "    }\n",
       "\n",
       "    .dataframe tbody tr th {\n",
       "        vertical-align: top;\n",
       "    }\n",
       "\n",
       "    .dataframe thead th {\n",
       "        text-align: right;\n",
       "    }\n",
       "</style>\n",
       "<table border=\"1\" class=\"dataframe\">\n",
       "  <thead>\n",
       "    <tr style=\"text-align: right;\">\n",
       "      <th></th>\n",
       "      <th>customer_id</th>\n",
       "      <th>recency</th>\n",
       "      <th>frequency</th>\n",
       "      <th>monetary</th>\n",
       "      <th>r_score</th>\n",
       "      <th>f_score</th>\n",
       "      <th>m_score</th>\n",
       "      <th>rfm_score</th>\n",
       "      <th>rfm_score_total</th>\n",
       "    </tr>\n",
       "  </thead>\n",
       "  <tbody>\n",
       "    <tr>\n",
       "      <th>0</th>\n",
       "      <td>9931872</td>\n",
       "      <td>215 days</td>\n",
       "      <td>2</td>\n",
       "      <td>384.4</td>\n",
       "      <td>2</td>\n",
       "      <td>3</td>\n",
       "      <td>2</td>\n",
       "      <td>232</td>\n",
       "      <td>7</td>\n",
       "    </tr>\n",
       "    <tr>\n",
       "      <th>1</th>\n",
       "      <td>9931873</td>\n",
       "      <td>84 days</td>\n",
       "      <td>26</td>\n",
       "      <td>4232.5</td>\n",
       "      <td>1</td>\n",
       "      <td>1</td>\n",
       "      <td>1</td>\n",
       "      <td>111</td>\n",
       "      <td>3</td>\n",
       "    </tr>\n",
       "    <tr>\n",
       "      <th>2</th>\n",
       "      <td>9931874</td>\n",
       "      <td>582 days</td>\n",
       "      <td>2</td>\n",
       "      <td>551.4</td>\n",
       "      <td>3</td>\n",
       "      <td>3</td>\n",
       "      <td>2</td>\n",
       "      <td>332</td>\n",
       "      <td>8</td>\n",
       "    </tr>\n",
       "    <tr>\n",
       "      <th>3</th>\n",
       "      <td>9931875</td>\n",
       "      <td>162 days</td>\n",
       "      <td>4</td>\n",
       "      <td>197.0</td>\n",
       "      <td>2</td>\n",
       "      <td>2</td>\n",
       "      <td>3</td>\n",
       "      <td>223</td>\n",
       "      <td>7</td>\n",
       "    </tr>\n",
       "    <tr>\n",
       "      <th>4</th>\n",
       "      <td>9931876</td>\n",
       "      <td>183 days</td>\n",
       "      <td>4</td>\n",
       "      <td>517.8</td>\n",
       "      <td>2</td>\n",
       "      <td>2</td>\n",
       "      <td>2</td>\n",
       "      <td>222</td>\n",
       "      <td>6</td>\n",
       "    </tr>\n",
       "  </tbody>\n",
       "</table>\n",
       "</div>"
      ],
      "text/plain": [
       "   customer_id  recency  frequency  monetary r_score f_score m_score  \\\n",
       "0      9931872 215 days          2     384.4       2       3       2   \n",
       "1      9931873  84 days         26    4232.5       1       1       1   \n",
       "2      9931874 582 days          2     551.4       3       3       2   \n",
       "3      9931875 162 days          4     197.0       2       2       3   \n",
       "4      9931876 183 days          4     517.8       2       2       2   \n",
       "\n",
       "  rfm_score  rfm_score_total  \n",
       "0       232                7  \n",
       "1       111                3  \n",
       "2       332                8  \n",
       "3       223                7  \n",
       "4       222                6  "
      ]
     },
     "execution_count": 21,
     "metadata": {},
     "output_type": "execute_result"
    }
   ],
   "source": [
    "# Concat scores to create score and score total\n",
    "rfmf['rfm_score'] = rfmf['r_score'].astype(str) + rfmf['f_score'].astype(str) + rfmf['m_score'].astype(str)\n",
    "rfmf['rfm_score_total'] = rfmf['r_score'].astype(int) + rfmf['f_score'].astype(int) + rfmf['m_score'].astype(int)\n",
    "\n",
    "rfmf.head()"
   ]
  },
  {
   "cell_type": "code",
   "execution_count": 22,
   "metadata": {},
   "outputs": [],
   "source": [
    "# Drop unnneeded columns\n",
    "columns2 = ['r_score', 'f_score', 'm_score']\n",
    "rfmf.drop(columns2, inplace=True, axis=1)"
   ]
  },
  {
   "cell_type": "code",
   "execution_count": 23,
   "metadata": {},
   "outputs": [],
   "source": [
    "# Define rfm_level function\n",
    "def rfm_level(df):\n",
    "    if df['rfm_score_total'] == 3:\n",
    "        return 'Champions'\n",
    "    elif ((df['rfm_score_total'] >= 4) and (df['rfm_score_total'] < 5)):\n",
    "        return 'Good'\n",
    "    elif ((df['rfm_score_total'] >= 5) and (df['rfm_score_total'] <= 8)):\n",
    "        return 'Potential'\n",
    "    elif ((df['rfm_score_total'] >= 9) ):\n",
    "        return 'Needs Attention'"
   ]
  },
  {
   "cell_type": "code",
   "execution_count": 24,
   "metadata": {},
   "outputs": [
    {
     "data": {
      "text/html": [
       "<div>\n",
       "<style scoped>\n",
       "    .dataframe tbody tr th:only-of-type {\n",
       "        vertical-align: middle;\n",
       "    }\n",
       "\n",
       "    .dataframe tbody tr th {\n",
       "        vertical-align: top;\n",
       "    }\n",
       "\n",
       "    .dataframe thead th {\n",
       "        text-align: right;\n",
       "    }\n",
       "</style>\n",
       "<table border=\"1\" class=\"dataframe\">\n",
       "  <thead>\n",
       "    <tr style=\"text-align: right;\">\n",
       "      <th></th>\n",
       "      <th>customer_id</th>\n",
       "      <th>recency</th>\n",
       "      <th>frequency</th>\n",
       "      <th>monetary</th>\n",
       "      <th>rfm_score</th>\n",
       "      <th>rfm_score_total</th>\n",
       "      <th>rfm_level</th>\n",
       "    </tr>\n",
       "  </thead>\n",
       "  <tbody>\n",
       "    <tr>\n",
       "      <th>0</th>\n",
       "      <td>9931872</td>\n",
       "      <td>215 days</td>\n",
       "      <td>2</td>\n",
       "      <td>384.4</td>\n",
       "      <td>232</td>\n",
       "      <td>7</td>\n",
       "      <td>Potential</td>\n",
       "    </tr>\n",
       "    <tr>\n",
       "      <th>1</th>\n",
       "      <td>9931873</td>\n",
       "      <td>84 days</td>\n",
       "      <td>26</td>\n",
       "      <td>4232.5</td>\n",
       "      <td>111</td>\n",
       "      <td>3</td>\n",
       "      <td>Champions</td>\n",
       "    </tr>\n",
       "    <tr>\n",
       "      <th>2</th>\n",
       "      <td>9931874</td>\n",
       "      <td>582 days</td>\n",
       "      <td>2</td>\n",
       "      <td>551.4</td>\n",
       "      <td>332</td>\n",
       "      <td>8</td>\n",
       "      <td>Potential</td>\n",
       "    </tr>\n",
       "    <tr>\n",
       "      <th>3</th>\n",
       "      <td>9931875</td>\n",
       "      <td>162 days</td>\n",
       "      <td>4</td>\n",
       "      <td>197.0</td>\n",
       "      <td>223</td>\n",
       "      <td>7</td>\n",
       "      <td>Potential</td>\n",
       "    </tr>\n",
       "    <tr>\n",
       "      <th>4</th>\n",
       "      <td>9931876</td>\n",
       "      <td>183 days</td>\n",
       "      <td>4</td>\n",
       "      <td>517.8</td>\n",
       "      <td>222</td>\n",
       "      <td>6</td>\n",
       "      <td>Potential</td>\n",
       "    </tr>\n",
       "  </tbody>\n",
       "</table>\n",
       "</div>"
      ],
      "text/plain": [
       "   customer_id  recency  frequency  monetary rfm_score  rfm_score_total  \\\n",
       "0      9931872 215 days          2     384.4       232                7   \n",
       "1      9931873  84 days         26    4232.5       111                3   \n",
       "2      9931874 582 days          2     551.4       332                8   \n",
       "3      9931875 162 days          4     197.0       223                7   \n",
       "4      9931876 183 days          4     517.8       222                6   \n",
       "\n",
       "   rfm_level  \n",
       "0  Potential  \n",
       "1  Champions  \n",
       "2  Potential  \n",
       "3  Potential  \n",
       "4  Potential  "
      ]
     },
     "execution_count": 24,
     "metadata": {},
     "output_type": "execute_result"
    }
   ],
   "source": [
    "# Create a new variable RFM_Level\n",
    "rfmf['rfm_level'] = rfmf.apply(rfm_level, axis=1)\n",
    "rfmf.head()"
   ]
  },
  {
   "cell_type": "markdown",
   "metadata": {},
   "source": [
    "## Visualize"
   ]
  },
  {
   "cell_type": "code",
   "execution_count": 25,
   "metadata": {
    "scrolled": false
   },
   "outputs": [
    {
     "data": {
      "image/png": "[encoded data removed]",
      "text/plain": [
       "<Figure size 1080x360 with 1 Axes>"
      ]
     },
     "metadata": {
      "needs_background": "light"
     },
     "output_type": "display_data"
    }
   ],
   "source": [
    "# Plot each possible combination in groups\n",
    "ax = rfmf['rfm_score'].value_counts().plot(kind='bar', figsize=(15, 5), fontsize=12)\n",
    "ax.set_xlabel(\"RFM Variations\", fontsize=12)\n",
    "ax.set_ylabel(\"Count\", fontsize=12)\n",
    "plt.show()"
   ]
  },
  {
   "cell_type": "code",
   "execution_count": 26,
   "metadata": {},
   "outputs": [],
   "source": [
    "# There are so many variations! This is why we create a RFM Score Total"
   ]
  },
  {
   "cell_type": "code",
   "execution_count": 27,
   "metadata": {
    "scrolled": true
   },
   "outputs": [
    {
     "data": {
      "image/png": "[encoded data removed]",
      "text/plain": [
       "<Figure size 1080x360 with 1 Axes>"
      ]
     },
     "metadata": {
      "needs_background": "light"
     },
     "output_type": "display_data"
    }
   ],
   "source": [
    "# Plot rfm score totals in groups\n",
    "ax = rfmf['rfm_score_total'].value_counts().plot(kind='bar', figsize=(15, 5), fontsize=12)\n",
    "ax.set_xlabel(\"RFM Score Totals\", fontsize=12)\n",
    "ax.set_ylabel(\"Count\", fontsize=12)\n",
    "plt.show()"
   ]
  },
  {
   "cell_type": "code",
   "execution_count": 28,
   "metadata": {},
   "outputs": [],
   "source": [
    "# Still, a lot of variations! And this is why we create RFM Groups"
   ]
  },
  {
   "cell_type": "code",
   "execution_count": 29,
   "metadata": {},
   "outputs": [
    {
     "data": {
      "image/png": "[encoded data removed]",
      "text/plain": [
       "<Figure size 1080x360 with 1 Axes>"
      ]
     },
     "metadata": {
      "needs_background": "light"
     },
     "output_type": "display_data"
    }
   ],
   "source": [
    "# Plot final groups\n",
    "ax = rfmf['rfm_level'].value_counts().plot(kind='bar', figsize=(15, 5), fontsize=12)\n",
    "ax.set_xlabel(\"RFM Level Score\", fontsize=12)\n",
    "ax.set_ylabel(\"Count\", fontsize=12)\n",
    "plt.xticks(rotation=0)\n",
    "plt.show()"
   ]
  },
  {
   "cell_type": "code",
   "execution_count": 30,
   "metadata": {},
   "outputs": [
    {
     "name": "stdout",
     "output_type": "stream",
     "text": [
      "rfm_level\n",
      "Champions           320\n",
      "Good                695\n",
      "Needs Attention    2185\n",
      "Potential          2693\n",
      "Name: rfm_level, dtype: int64\n"
     ]
    },
    {
     "data": {
      "text/plain": [
       "<AxesSubplot:ylabel='rfm_level'>"
      ]
     },
     "execution_count": 30,
     "metadata": {},
     "output_type": "execute_result"
    },
    {
     "data": {
      "image/png": "[encoded data removed]",
      "text/plain": [
       "<Figure size 288x288 with 1 Axes>"
      ]
     },
     "metadata": {},
     "output_type": "display_data"
    }
   ],
   "source": [
    "# Totals for each group\n",
    "totals = rfmf.groupby('rfm_level').rfm_level.count()\n",
    "print(totals)\n",
    "\n",
    "rfmf.rfm_level.value_counts().plot(kind='pie', autopct='%1.1f%%', figsize=(4, 4))"
   ]
  },
  {
   "cell_type": "markdown",
   "metadata": {},
   "source": [
    "## Explore rfm groups"
   ]
  },
  {
   "cell_type": "code",
   "execution_count": 31,
   "metadata": {},
   "outputs": [
    {
     "name": "stdout",
     "output_type": "stream",
     "text": [
      "\n",
      " Potential \n",
      "                            recency    frequency      monetary\n",
      "count                         2693  2693.000000   2693.000000\n",
      "mean   337 days 10:14:23.572224284     2.703305    722.106933\n",
      "std    274 days 15:02:05.703943972     1.902132    996.428319\n",
      "min               51 days 00:00:00     1.000000      0.000000\n",
      "25%              140 days 00:00:00     1.000000    241.000000\n",
      "50%              196 days 00:00:00     2.000000    502.200000\n",
      "75%              489 days 00:00:00     3.000000    838.200000\n",
      "max             1248 days 00:00:00    27.000000  17024.400000\n",
      "\n",
      " Champions \n",
      "                           recency   frequency      monetary\n",
      "count                         320  320.000000    320.000000\n",
      "mean            114 days 08:15:00    7.868750   2846.791500\n",
      "std    32 days 05:59:52.651444709    3.011206   3152.995821\n",
      "min              51 days 00:00:00    4.000000    930.400000\n",
      "25%              85 days 00:00:00    5.000000   1327.012500\n",
      "50%             118 days 12:00:00    8.000000   1919.900000\n",
      "75%             145 days 06:00:00   10.000000   3114.500000\n",
      "max             156 days 00:00:00   26.000000  34457.000000\n",
      "\n",
      " Needs Attention \n",
      "                            recency    frequency     monetary\n",
      "count                         2185  2185.000000  2185.000000\n",
      "mean   827 days 05:12:23.066361560     1.115332   168.125835\n",
      "std    323 days 22:10:21.887278896     0.367484   214.866763\n",
      "min              159 days 00:00:00     1.000000     0.000000\n",
      "25%              509 days 00:00:00     1.000000    69.000000\n",
      "50%              869 days 00:00:00     1.000000    84.000000\n",
      "75%             1124 days 00:00:00     1.000000   212.000000\n",
      "max             1258 days 00:00:00     4.000000  3111.000000\n",
      "\n",
      " Good \n",
      "                            recency   frequency      monetary\n",
      "count                          695  695.000000    695.000000\n",
      "mean   166 days 13:44:37.985611510    5.781295   1968.446129\n",
      "std     54 days 20:12:13.449200414    2.502666   1858.675811\n",
      "min               51 days 00:00:00    2.000000    371.800000\n",
      "25%              138 days 12:00:00    4.000000   1004.900000\n",
      "50%              169 days 00:00:00    6.000000   1405.400000\n",
      "75%              193 days 12:00:00    7.000000   2305.900000\n",
      "max              384 days 00:00:00   17.000000  17591.950000\n"
     ]
    }
   ],
   "source": [
    "# Get array of our groups\n",
    "groups = rfmf.rfm_level.unique()\n",
    "\n",
    "# Use for loop for basic statistics of each group\n",
    "for group in groups:\n",
    "    base = rfmf[rfmf.rfm_level==group]\n",
    "    describe = base.describe()[['recency', 'frequency', 'monetary']]\n",
    "    print('\\n', group, '\\n', describe)"
   ]
  },
  {
   "cell_type": "code",
   "execution_count": 32,
   "metadata": {},
   "outputs": [
    {
     "data": {
      "text/html": [
       "<div>\n",
       "<style scoped>\n",
       "    .dataframe tbody tr th:only-of-type {\n",
       "        vertical-align: middle;\n",
       "    }\n",
       "\n",
       "    .dataframe tbody tr th {\n",
       "        vertical-align: top;\n",
       "    }\n",
       "\n",
       "    .dataframe thead th {\n",
       "        text-align: right;\n",
       "    }\n",
       "</style>\n",
       "<table border=\"1\" class=\"dataframe\">\n",
       "  <thead>\n",
       "    <tr style=\"text-align: right;\">\n",
       "      <th></th>\n",
       "      <th>customer_id</th>\n",
       "      <th>recency</th>\n",
       "      <th>frequency</th>\n",
       "      <th>monetary</th>\n",
       "      <th>rfm_score</th>\n",
       "      <th>rfm_score_total</th>\n",
       "      <th>rfm_level</th>\n",
       "    </tr>\n",
       "  </thead>\n",
       "  <tbody>\n",
       "    <tr>\n",
       "      <th>0</th>\n",
       "      <td>9931872</td>\n",
       "      <td>215 days</td>\n",
       "      <td>2</td>\n",
       "      <td>384.4</td>\n",
       "      <td>232</td>\n",
       "      <td>7</td>\n",
       "      <td>Potential</td>\n",
       "    </tr>\n",
       "  </tbody>\n",
       "</table>\n",
       "</div>"
      ],
      "text/plain": [
       "   customer_id  recency  frequency  monetary rfm_score  rfm_score_total  \\\n",
       "0      9931872 215 days          2     384.4       232                7   \n",
       "\n",
       "   rfm_level  \n",
       "0  Potential  "
      ]
     },
     "execution_count": 32,
     "metadata": {},
     "output_type": "execute_result"
    }
   ],
   "source": [
    "rfmf.head(1)"
   ]
  },
  {
   "cell_type": "code",
   "execution_count": 33,
   "metadata": {},
   "outputs": [],
   "source": [
    "# Create new df for plotting, convert recency column from DateTime to int\n",
    "plot_df = rfmf[['recency', 'frequency', 'monetary', 'rfm_level']]\n",
    "plot_df['recency'] = plot_df['recency'].astype(str).apply(lambda x: x.split(' ')[0]).astype(int)"
   ]
  },
  {
   "cell_type": "code",
   "execution_count": 123,
   "metadata": {},
   "outputs": [
    {
     "data": {
      "image/png": "[encoded data removed]",
      "text/plain": [
       "<Figure size 864x216 with 4 Axes>"
      ]
     },
     "metadata": {
      "needs_background": "light"
     },
     "output_type": "display_data"
    },
    {
     "data": {
      "image/png": "[encoded data removed]",
      "text/plain": [
       "<Figure size 864x216 with 4 Axes>"
      ]
     },
     "metadata": {
      "needs_background": "light"
     },
     "output_type": "display_data"
    },
    {
     "data": {
      "image/png": "[encoded data removed]",
      "text/plain": [
       "<Figure size 864x216 with 4 Axes>"
      ]
     },
     "metadata": {
      "needs_background": "light"
     },
     "output_type": "display_data"
    }
   ],
   "source": [
    "# Histogram plots for each \n",
    "plot_cats = ['recency', 'frequency', 'monetary']\n",
    "\n",
    "for plot in plot_cats:\n",
    "    hist = sns.FacetGrid(plot_df, col='rfm_level', sharex=False, sharey=False)\n",
    "    hist.map(sns.histplot, plot)"
   ]
  },
  {
   "cell_type": "code",
   "execution_count": null,
   "metadata": {},
   "outputs": [],
   "source": []
  },
  {
   "cell_type": "code",
   "execution_count": null,
   "metadata": {},
   "outputs": [],
   "source": []
  },
  {
   "cell_type": "code",
   "execution_count": null,
   "metadata": {},
   "outputs": [],
   "source": []
  },
  {
   "cell_type": "code",
   "execution_count": null,
   "metadata": {},
   "outputs": [],
   "source": []
  },
  {
   "cell_type": "code",
   "execution_count": 30,
   "metadata": {},
   "outputs": [],
   "source": [
    "# As you can see our groups are very different and should be marketed to differently"
   ]
  },
  {
   "cell_type": "code",
   "execution_count": 32,
   "metadata": {},
   "outputs": [],
   "source": [
    "needs_attention = 'Complimentary System Checkup'\n",
    "potential = '20% off any repair'\n",
    "good = 'BOGO Water Saving Head'\n",
    "champions = 'Due to your loyalty we would like to give you 10% off any of our upgrades!'"
   ]
  },
  {
   "cell_type": "code",
   "execution_count": 33,
   "metadata": {},
   "outputs": [],
   "source": [
    "# once we are done exporting the data that contains 'customer_id' and 'marketing string' we can then later join\n",
    "# the dataset using the customer_id column as a key."
   ]
  }
 ],
 "metadata": {
  "kernelspec": {
   "display_name": "Python 3 (ipykernel)",
   "language": "python",
   "name": "python3"
  },
  "language_info": {
   "codemirror_mode": {
    "name": "ipython",
    "version": 3
   },
   "file_extension": ".py",
   "mimetype": "text/x-python",
   "name": "python",
   "nbconvert_exporter": "python",
   "pygments_lexer": "ipython3",
   "version": "3.8.12"
  }
 },
 "nbformat": 4,
 "nbformat_minor": 4
}
