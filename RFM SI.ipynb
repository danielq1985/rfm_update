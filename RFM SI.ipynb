{
 "cells": [
  {
   "cell_type": "code",
   "execution_count": 43,
   "metadata": {},
   "outputs": [],
   "source": [
    "import pandas as pd\n",
    "import datetime\n",
    "from datetime import date\n",
    "import matplotlib.pyplot as plt\n",
    "%matplotlib inline\n",
    "\n",
    "# disable chained assignments\n",
    "pd.options.mode.chained_assignment = None "
   ]
  },
  {
   "cell_type": "code",
   "execution_count": 58,
   "metadata": {},
   "outputs": [],
   "source": [
    "# Load our data\n",
    "df = pd.read_excel('jobs.xlsx')"
   ]
  },
  {
   "cell_type": "code",
   "execution_count": 59,
   "metadata": {},
   "outputs": [],
   "source": [
    "# Clean data"
   ]
  },
  {
   "cell_type": "code",
   "execution_count": 60,
   "metadata": {},
   "outputs": [],
   "source": [
    "# Clean up column names\n",
    "df.columns = df.columns.str.strip().str.lower().str.replace(' ', '_').str.replace('(', '').str.replace(')', '').str.replace('#', 'number')"
   ]
  },
  {
   "cell_type": "code",
   "execution_count": 61,
   "metadata": {},
   "outputs": [
    {
     "data": {
      "text/plain": [
       "job_number                     int64\n",
       "job_type                      object\n",
       "job_campaign                  object\n",
       "campaign_category             object\n",
       "business_unit                 object\n",
       "invoice_number                 int64\n",
       "jobs_total                   float64\n",
       "completion_date       datetime64[ns]\n",
       "job_class                     object\n",
       "summary                       object\n",
       "customer_id                    int64\n",
       "customer_name                 object\n",
       "primary_technician            object\n",
       "dtype: object"
      ]
     },
     "execution_count": 61,
     "metadata": {},
     "output_type": "execute_result"
    }
   ],
   "source": [
    "# What are our datatypes?\n",
    "df.dtypes"
   ]
  },
  {
   "cell_type": "code",
   "execution_count": 62,
   "metadata": {},
   "outputs": [
    {
     "data": {
      "text/plain": [
       "(16253, 13)"
      ]
     },
     "execution_count": 62,
     "metadata": {},
     "output_type": "execute_result"
    }
   ],
   "source": [
    "# What is the shape of our data?\n",
    "df.shape"
   ]
  },
  {
   "cell_type": "code",
   "execution_count": 63,
   "metadata": {},
   "outputs": [
    {
     "data": {
      "text/plain": [
       "True"
      ]
     },
     "execution_count": 63,
     "metadata": {},
     "output_type": "execute_result"
    }
   ],
   "source": [
    "# Any null vales?\n",
    "df.isnull().values.any()"
   ]
  },
  {
   "cell_type": "code",
   "execution_count": 64,
   "metadata": {},
   "outputs": [
    {
     "data": {
      "text/plain": [
       "job_number                0\n",
       "job_type                  0\n",
       "job_campaign              0\n",
       "campaign_category     16243\n",
       "business_unit             0\n",
       "invoice_number            0\n",
       "jobs_total                0\n",
       "completion_date           0\n",
       "job_class             12431\n",
       "summary               12324\n",
       "customer_id               0\n",
       "customer_name             0\n",
       "primary_technician       64\n",
       "dtype: int64"
      ]
     },
     "execution_count": 64,
     "metadata": {},
     "output_type": "execute_result"
    }
   ],
   "source": [
    "# How many?\n",
    "df.isnull().sum()"
   ]
  },
  {
   "cell_type": "code",
   "execution_count": 65,
   "metadata": {},
   "outputs": [],
   "source": [
    "# For this RFM analysis the columns that are showing null values are not usefull\n",
    "# We DO NOT want to drop the entire column"
   ]
  },
  {
   "cell_type": "code",
   "execution_count": 66,
   "metadata": {},
   "outputs": [],
   "source": [
    "# Convert completion dates to pd date time\n",
    "df['completion_date'] = pd.to_datetime(df.completion_date)\n",
    "\n",
    "# index DF with 'wo_entrydate' AND sort ascending\n",
    "df = df.sort_values(by='completion_date', ascending=True)\n",
    "df = df.set_index(df['completion_date'])"
   ]
  },
  {
   "cell_type": "code",
   "execution_count": 67,
   "metadata": {},
   "outputs": [],
   "source": [
    "# Create date variables \n",
    "today = datetime.date.today()\n",
    "last_monday = today - datetime.timedelta(days=today.weekday())\n",
    "coming_sat = last_monday + datetime.timedelta(days=-today.weekday(), weeks=1.2)\n",
    "beg_year = date(date.today().year, 1, 1)\n",
    "current_year = datetime.datetime.now().year"
   ]
  },
  {
   "cell_type": "code",
   "execution_count": 68,
   "metadata": {},
   "outputs": [
    {
     "data": {
      "text/html": [
       "<div>\n",
       "<style scoped>\n",
       "    .dataframe tbody tr th:only-of-type {\n",
       "        vertical-align: middle;\n",
       "    }\n",
       "\n",
       "    .dataframe tbody tr th {\n",
       "        vertical-align: top;\n",
       "    }\n",
       "\n",
       "    .dataframe thead th {\n",
       "        text-align: right;\n",
       "    }\n",
       "</style>\n",
       "<table border=\"1\" class=\"dataframe\">\n",
       "  <thead>\n",
       "    <tr style=\"text-align: right;\">\n",
       "      <th></th>\n",
       "      <th>completion_date</th>\n",
       "      <th>customer_id</th>\n",
       "      <th>job_number</th>\n",
       "      <th>jobs_total</th>\n",
       "    </tr>\n",
       "    <tr>\n",
       "      <th>completion_date</th>\n",
       "      <th></th>\n",
       "      <th></th>\n",
       "      <th></th>\n",
       "      <th></th>\n",
       "    </tr>\n",
       "  </thead>\n",
       "  <tbody>\n",
       "    <tr>\n",
       "      <th>2018-06-01</th>\n",
       "      <td>2018-06-01</td>\n",
       "      <td>9931896</td>\n",
       "      <td>50064</td>\n",
       "      <td>49.0</td>\n",
       "    </tr>\n",
       "  </tbody>\n",
       "</table>\n",
       "</div>"
      ],
      "text/plain": [
       "                completion_date  customer_id  job_number  jobs_total\n",
       "completion_date                                                     \n",
       "2018-06-01           2018-06-01      9931896       50064        49.0"
      ]
     },
     "execution_count": 68,
     "metadata": {},
     "output_type": "execute_result"
    }
   ],
   "source": [
    "## Create main DF, and only what we need\n",
    "rfm = df[['completion_date', 'customer_id', 'job_number', 'jobs_total']]\n",
    "rfm.head(1)"
   ]
  },
  {
   "cell_type": "code",
   "execution_count": 95,
   "metadata": {},
   "outputs": [
    {
     "data": {
      "text/html": [
       "<div>\n",
       "<style scoped>\n",
       "    .dataframe tbody tr th:only-of-type {\n",
       "        vertical-align: middle;\n",
       "    }\n",
       "\n",
       "    .dataframe tbody tr th {\n",
       "        vertical-align: top;\n",
       "    }\n",
       "\n",
       "    .dataframe thead th {\n",
       "        text-align: right;\n",
       "    }\n",
       "</style>\n",
       "<table border=\"1\" class=\"dataframe\">\n",
       "  <thead>\n",
       "    <tr style=\"text-align: right;\">\n",
       "      <th></th>\n",
       "      <th>completion_date</th>\n",
       "      <th>customer_id</th>\n",
       "      <th>job_number</th>\n",
       "      <th>jobs_total</th>\n",
       "      <th>recency</th>\n",
       "    </tr>\n",
       "    <tr>\n",
       "      <th>completion_date</th>\n",
       "      <th></th>\n",
       "      <th></th>\n",
       "      <th></th>\n",
       "      <th></th>\n",
       "      <th></th>\n",
       "    </tr>\n",
       "  </thead>\n",
       "  <tbody>\n",
       "    <tr>\n",
       "      <th>2018-06-01</th>\n",
       "      <td>2018-06-01</td>\n",
       "      <td>9931896</td>\n",
       "      <td>50064</td>\n",
       "      <td>49.0</td>\n",
       "      <td>1208 days</td>\n",
       "    </tr>\n",
       "  </tbody>\n",
       "</table>\n",
       "</div>"
      ],
      "text/plain": [
       "                completion_date  customer_id  job_number  jobs_total   recency\n",
       "completion_date                                                               \n",
       "2018-06-01           2018-06-01      9931896       50064        49.0 1208 days"
      ]
     },
     "execution_count": 95,
     "metadata": {},
     "output_type": "execute_result"
    }
   ],
   "source": [
    "# Recency in RFM DF\n",
    "rfm['recency'] = pd.to_datetime(today) - pd.to_datetime(rfm.completion_date)\n",
    "rfm.head(1)"
   ]
  },
  {
   "cell_type": "code",
   "execution_count": 70,
   "metadata": {},
   "outputs": [],
   "source": [
    "## Create Recency DF using min, when were we there last?\n",
    "rfm_r = rfm.groupby(['customer_id']).recency.min().reset_index()"
   ]
  },
  {
   "cell_type": "code",
   "execution_count": 73,
   "metadata": {},
   "outputs": [],
   "source": [
    "## Create Frequency DF, how many work orders were created \n",
    "rfm_f = rfm.groupby('customer_id').job_number.count().reset_index()"
   ]
  },
  {
   "cell_type": "code",
   "execution_count": 76,
   "metadata": {},
   "outputs": [],
   "source": [
    "## How much money has this customer spent with us? \n",
    "rfm_m = rfm.groupby('customer_id').jobs_total.sum().reset_index()"
   ]
  },
  {
   "cell_type": "code",
   "execution_count": 78,
   "metadata": {},
   "outputs": [
    {
     "data": {
      "text/html": [
       "<div>\n",
       "<style scoped>\n",
       "    .dataframe tbody tr th:only-of-type {\n",
       "        vertical-align: middle;\n",
       "    }\n",
       "\n",
       "    .dataframe tbody tr th {\n",
       "        vertical-align: top;\n",
       "    }\n",
       "\n",
       "    .dataframe thead th {\n",
       "        text-align: right;\n",
       "    }\n",
       "</style>\n",
       "<table border=\"1\" class=\"dataframe\">\n",
       "  <thead>\n",
       "    <tr style=\"text-align: right;\">\n",
       "      <th></th>\n",
       "      <th>customer_id</th>\n",
       "      <th>recency</th>\n",
       "      <th>job_number</th>\n",
       "      <th>jobs_total</th>\n",
       "    </tr>\n",
       "  </thead>\n",
       "  <tbody>\n",
       "    <tr>\n",
       "      <th>0</th>\n",
       "      <td>9931872</td>\n",
       "      <td>165 days</td>\n",
       "      <td>2</td>\n",
       "      <td>384.4</td>\n",
       "    </tr>\n",
       "    <tr>\n",
       "      <th>1</th>\n",
       "      <td>9931873</td>\n",
       "      <td>34 days</td>\n",
       "      <td>26</td>\n",
       "      <td>4232.5</td>\n",
       "    </tr>\n",
       "    <tr>\n",
       "      <th>2</th>\n",
       "      <td>9931874</td>\n",
       "      <td>532 days</td>\n",
       "      <td>2</td>\n",
       "      <td>551.4</td>\n",
       "    </tr>\n",
       "    <tr>\n",
       "      <th>3</th>\n",
       "      <td>9931875</td>\n",
       "      <td>112 days</td>\n",
       "      <td>4</td>\n",
       "      <td>197.0</td>\n",
       "    </tr>\n",
       "    <tr>\n",
       "      <th>4</th>\n",
       "      <td>9931876</td>\n",
       "      <td>133 days</td>\n",
       "      <td>4</td>\n",
       "      <td>517.8</td>\n",
       "    </tr>\n",
       "  </tbody>\n",
       "</table>\n",
       "</div>"
      ],
      "text/plain": [
       "   customer_id  recency  job_number  jobs_total\n",
       "0      9931872 165 days           2       384.4\n",
       "1      9931873  34 days          26      4232.5\n",
       "2      9931874 532 days           2       551.4\n",
       "3      9931875 112 days           4       197.0\n",
       "4      9931876 133 days           4       517.8"
      ]
     },
     "execution_count": 78,
     "metadata": {},
     "output_type": "execute_result"
    }
   ],
   "source": [
    "## Merge DFs and created RFMF\n",
    "rfmf = rfm_r.merge(rfm_f, on = 'customer_id', how = 'outer').merge(rfm_m, on = 'customer_id', how = 'outer')\n",
    "rfmf.head()"
   ]
  },
  {
   "cell_type": "code",
   "execution_count": 79,
   "metadata": {},
   "outputs": [],
   "source": [
    "# Update column names\n",
    "rfmf.columns = ['customer_id', 'recency', 'frequency', 'monetary']"
   ]
  },
  {
   "cell_type": "code",
   "execution_count": 81,
   "metadata": {},
   "outputs": [
    {
     "data": {
      "text/html": [
       "<div>\n",
       "<style scoped>\n",
       "    .dataframe tbody tr th:only-of-type {\n",
       "        vertical-align: middle;\n",
       "    }\n",
       "\n",
       "    .dataframe tbody tr th {\n",
       "        vertical-align: top;\n",
       "    }\n",
       "\n",
       "    .dataframe thead th {\n",
       "        text-align: right;\n",
       "    }\n",
       "</style>\n",
       "<table border=\"1\" class=\"dataframe\">\n",
       "  <thead>\n",
       "    <tr style=\"text-align: right;\">\n",
       "      <th></th>\n",
       "      <th>customer_id</th>\n",
       "      <th>recency</th>\n",
       "      <th>frequency</th>\n",
       "      <th>monetary</th>\n",
       "      <th>r_percentile</th>\n",
       "      <th>r_score</th>\n",
       "      <th>f_percentile</th>\n",
       "      <th>f_score</th>\n",
       "      <th>m_percentile</th>\n",
       "      <th>m_score</th>\n",
       "    </tr>\n",
       "  </thead>\n",
       "  <tbody>\n",
       "    <tr>\n",
       "      <th>0</th>\n",
       "      <td>9931872</td>\n",
       "      <td>165 days</td>\n",
       "      <td>2</td>\n",
       "      <td>384.4</td>\n",
       "      <td>0.571186</td>\n",
       "      <td>2</td>\n",
       "      <td>0.482776</td>\n",
       "      <td>3</td>\n",
       "      <td>0.509927</td>\n",
       "      <td>2</td>\n",
       "    </tr>\n",
       "    <tr>\n",
       "      <th>1</th>\n",
       "      <td>9931873</td>\n",
       "      <td>34 days</td>\n",
       "      <td>26</td>\n",
       "      <td>4232.5</td>\n",
       "      <td>0.947395</td>\n",
       "      <td>1</td>\n",
       "      <td>0.999830</td>\n",
       "      <td>1</td>\n",
       "      <td>0.978619</td>\n",
       "      <td>1</td>\n",
       "    </tr>\n",
       "    <tr>\n",
       "      <th>2</th>\n",
       "      <td>9931874</td>\n",
       "      <td>532 days</td>\n",
       "      <td>2</td>\n",
       "      <td>551.4</td>\n",
       "      <td>0.321568</td>\n",
       "      <td>3</td>\n",
       "      <td>0.482946</td>\n",
       "      <td>3</td>\n",
       "      <td>0.603767</td>\n",
       "      <td>2</td>\n",
       "    </tr>\n",
       "    <tr>\n",
       "      <th>3</th>\n",
       "      <td>9931875</td>\n",
       "      <td>112 days</td>\n",
       "      <td>4</td>\n",
       "      <td>197.0</td>\n",
       "      <td>0.730528</td>\n",
       "      <td>2</td>\n",
       "      <td>0.738334</td>\n",
       "      <td>2</td>\n",
       "      <td>0.365009</td>\n",
       "      <td>3</td>\n",
       "    </tr>\n",
       "    <tr>\n",
       "      <th>4</th>\n",
       "      <td>9931876</td>\n",
       "      <td>133 days</td>\n",
       "      <td>4</td>\n",
       "      <td>517.8</td>\n",
       "      <td>0.661632</td>\n",
       "      <td>2</td>\n",
       "      <td>0.738503</td>\n",
       "      <td>2</td>\n",
       "      <td>0.586119</td>\n",
       "      <td>2</td>\n",
       "    </tr>\n",
       "  </tbody>\n",
       "</table>\n",
       "</div>"
      ],
      "text/plain": [
       "   customer_id  recency  frequency  monetary  r_percentile r_score  \\\n",
       "0      9931872 165 days          2     384.4      0.571186       2   \n",
       "1      9931873  34 days         26    4232.5      0.947395       1   \n",
       "2      9931874 532 days          2     551.4      0.321568       3   \n",
       "3      9931875 112 days          4     197.0      0.730528       2   \n",
       "4      9931876 133 days          4     517.8      0.661632       2   \n",
       "\n",
       "   f_percentile f_score  m_percentile m_score  \n",
       "0      0.482776       3      0.509927       2  \n",
       "1      0.999830       1      0.978619       1  \n",
       "2      0.482946       3      0.603767       2  \n",
       "3      0.738334       2      0.365009       3  \n",
       "4      0.738503       2      0.586119       2  "
      ]
     },
     "execution_count": 81,
     "metadata": {},
     "output_type": "execute_result"
    }
   ],
   "source": [
    "# Create percentile, slicing dfs into 4ths, then giving each customer a score\n",
    "rfmf['r_percentile'] = rfmf['recency'].rank(method='first', pct=True,ascending=False)\n",
    "rfmf['r_score'] = pd.qcut(rfmf['r_percentile'], 4, labels=range(4,0,-1))\n",
    "rfmf['f_percentile'] = rfmf['frequency'].rank(method='first', pct=True,ascending=True)\n",
    "rfmf['f_score'] = pd.qcut(rfmf['f_percentile'], 4, labels=range(4,0,-1))\n",
    "rfmf['m_percentile'] = rfmf['monetary'].rank(method='first', pct=True,ascending=True)\n",
    "rfmf['m_score'] = pd.qcut(rfmf['m_percentile'], 4, labels=range(4,0,-1))\n",
    "\n",
    "rfmf.head()"
   ]
  },
  {
   "cell_type": "code",
   "execution_count": 82,
   "metadata": {},
   "outputs": [],
   "source": [
    "# Drop unneeded columns\n",
    "columns1 = ['r_percentile', 'f_percentile', 'm_percentile']\n",
    "rfmf.drop(columns1, inplace=True, axis=1)"
   ]
  },
  {
   "cell_type": "code",
   "execution_count": 84,
   "metadata": {},
   "outputs": [
    {
     "data": {
      "text/html": [
       "<div>\n",
       "<style scoped>\n",
       "    .dataframe tbody tr th:only-of-type {\n",
       "        vertical-align: middle;\n",
       "    }\n",
       "\n",
       "    .dataframe tbody tr th {\n",
       "        vertical-align: top;\n",
       "    }\n",
       "\n",
       "    .dataframe thead th {\n",
       "        text-align: right;\n",
       "    }\n",
       "</style>\n",
       "<table border=\"1\" class=\"dataframe\">\n",
       "  <thead>\n",
       "    <tr style=\"text-align: right;\">\n",
       "      <th></th>\n",
       "      <th>customer_id</th>\n",
       "      <th>recency</th>\n",
       "      <th>frequency</th>\n",
       "      <th>monetary</th>\n",
       "      <th>r_score</th>\n",
       "      <th>f_score</th>\n",
       "      <th>m_score</th>\n",
       "      <th>rfm_score</th>\n",
       "      <th>rfm_score_total</th>\n",
       "    </tr>\n",
       "  </thead>\n",
       "  <tbody>\n",
       "    <tr>\n",
       "      <th>0</th>\n",
       "      <td>9931872</td>\n",
       "      <td>165 days</td>\n",
       "      <td>2</td>\n",
       "      <td>384.4</td>\n",
       "      <td>2</td>\n",
       "      <td>3</td>\n",
       "      <td>2</td>\n",
       "      <td>232</td>\n",
       "      <td>7</td>\n",
       "    </tr>\n",
       "    <tr>\n",
       "      <th>1</th>\n",
       "      <td>9931873</td>\n",
       "      <td>34 days</td>\n",
       "      <td>26</td>\n",
       "      <td>4232.5</td>\n",
       "      <td>1</td>\n",
       "      <td>1</td>\n",
       "      <td>1</td>\n",
       "      <td>111</td>\n",
       "      <td>3</td>\n",
       "    </tr>\n",
       "    <tr>\n",
       "      <th>2</th>\n",
       "      <td>9931874</td>\n",
       "      <td>532 days</td>\n",
       "      <td>2</td>\n",
       "      <td>551.4</td>\n",
       "      <td>3</td>\n",
       "      <td>3</td>\n",
       "      <td>2</td>\n",
       "      <td>332</td>\n",
       "      <td>8</td>\n",
       "    </tr>\n",
       "    <tr>\n",
       "      <th>3</th>\n",
       "      <td>9931875</td>\n",
       "      <td>112 days</td>\n",
       "      <td>4</td>\n",
       "      <td>197.0</td>\n",
       "      <td>2</td>\n",
       "      <td>2</td>\n",
       "      <td>3</td>\n",
       "      <td>223</td>\n",
       "      <td>7</td>\n",
       "    </tr>\n",
       "    <tr>\n",
       "      <th>4</th>\n",
       "      <td>9931876</td>\n",
       "      <td>133 days</td>\n",
       "      <td>4</td>\n",
       "      <td>517.8</td>\n",
       "      <td>2</td>\n",
       "      <td>2</td>\n",
       "      <td>2</td>\n",
       "      <td>222</td>\n",
       "      <td>6</td>\n",
       "    </tr>\n",
       "  </tbody>\n",
       "</table>\n",
       "</div>"
      ],
      "text/plain": [
       "   customer_id  recency  frequency  monetary r_score f_score m_score  \\\n",
       "0      9931872 165 days          2     384.4       2       3       2   \n",
       "1      9931873  34 days         26    4232.5       1       1       1   \n",
       "2      9931874 532 days          2     551.4       3       3       2   \n",
       "3      9931875 112 days          4     197.0       2       2       3   \n",
       "4      9931876 133 days          4     517.8       2       2       2   \n",
       "\n",
       "  rfm_score  rfm_score_total  \n",
       "0       232                7  \n",
       "1       111                3  \n",
       "2       332                8  \n",
       "3       223                7  \n",
       "4       222                6  "
      ]
     },
     "execution_count": 84,
     "metadata": {},
     "output_type": "execute_result"
    }
   ],
   "source": [
    "# Concat scores to create score and score total\n",
    "rfmf['rfm_score'] = rfmf['r_score'].astype(str) + rfmf['f_score'].astype(str) + rfmf['m_score'].astype(str)\n",
    "rfmf['rfm_score_total'] = rfmf['r_score'].astype(int) + rfmf['f_score'].astype(int) + rfmf['m_score'].astype(int)\n",
    "\n",
    "rfmf.head()"
   ]
  },
  {
   "cell_type": "code",
   "execution_count": 87,
   "metadata": {},
   "outputs": [],
   "source": [
    "# Drop unnneeded columns\n",
    "columns2 = ['r_score', 'f_score', 'm_score']\n",
    "rfmf.drop(columns2, inplace=True, axis=1)"
   ]
  },
  {
   "cell_type": "code",
   "execution_count": 88,
   "metadata": {},
   "outputs": [],
   "source": [
    "# Define rfm_level function\n",
    "def rfm_level(df):\n",
    "    if df['rfm_score_total'] == 3:\n",
    "        return 'Champions'\n",
    "    elif ((df['rfm_score_total'] >= 4) and (df['rfm_score_total'] < 5)):\n",
    "        return 'Good'\n",
    "    elif ((df['rfm_score_total'] >= 5) and (df['rfm_score_total'] <= 8)):\n",
    "        return 'Potential'\n",
    "    elif ((df['rfm_score_total'] >= 9) ):\n",
    "        return 'Needs Attention'"
   ]
  },
  {
   "cell_type": "code",
   "execution_count": 90,
   "metadata": {},
   "outputs": [
    {
     "data": {
      "text/html": [
       "<div>\n",
       "<style scoped>\n",
       "    .dataframe tbody tr th:only-of-type {\n",
       "        vertical-align: middle;\n",
       "    }\n",
       "\n",
       "    .dataframe tbody tr th {\n",
       "        vertical-align: top;\n",
       "    }\n",
       "\n",
       "    .dataframe thead th {\n",
       "        text-align: right;\n",
       "    }\n",
       "</style>\n",
       "<table border=\"1\" class=\"dataframe\">\n",
       "  <thead>\n",
       "    <tr style=\"text-align: right;\">\n",
       "      <th></th>\n",
       "      <th>customer_id</th>\n",
       "      <th>recency</th>\n",
       "      <th>frequency</th>\n",
       "      <th>monetary</th>\n",
       "      <th>rfm_score</th>\n",
       "      <th>rfm_score_total</th>\n",
       "      <th>RFM_Level</th>\n",
       "    </tr>\n",
       "  </thead>\n",
       "  <tbody>\n",
       "    <tr>\n",
       "      <th>0</th>\n",
       "      <td>9931872</td>\n",
       "      <td>165 days</td>\n",
       "      <td>2</td>\n",
       "      <td>384.4</td>\n",
       "      <td>232</td>\n",
       "      <td>7</td>\n",
       "      <td>Potential</td>\n",
       "    </tr>\n",
       "    <tr>\n",
       "      <th>1</th>\n",
       "      <td>9931873</td>\n",
       "      <td>34 days</td>\n",
       "      <td>26</td>\n",
       "      <td>4232.5</td>\n",
       "      <td>111</td>\n",
       "      <td>3</td>\n",
       "      <td>Champions</td>\n",
       "    </tr>\n",
       "    <tr>\n",
       "      <th>2</th>\n",
       "      <td>9931874</td>\n",
       "      <td>532 days</td>\n",
       "      <td>2</td>\n",
       "      <td>551.4</td>\n",
       "      <td>332</td>\n",
       "      <td>8</td>\n",
       "      <td>Potential</td>\n",
       "    </tr>\n",
       "    <tr>\n",
       "      <th>3</th>\n",
       "      <td>9931875</td>\n",
       "      <td>112 days</td>\n",
       "      <td>4</td>\n",
       "      <td>197.0</td>\n",
       "      <td>223</td>\n",
       "      <td>7</td>\n",
       "      <td>Potential</td>\n",
       "    </tr>\n",
       "    <tr>\n",
       "      <th>4</th>\n",
       "      <td>9931876</td>\n",
       "      <td>133 days</td>\n",
       "      <td>4</td>\n",
       "      <td>517.8</td>\n",
       "      <td>222</td>\n",
       "      <td>6</td>\n",
       "      <td>Potential</td>\n",
       "    </tr>\n",
       "  </tbody>\n",
       "</table>\n",
       "</div>"
      ],
      "text/plain": [
       "   customer_id  recency  frequency  monetary rfm_score  rfm_score_total  \\\n",
       "0      9931872 165 days          2     384.4       232                7   \n",
       "1      9931873  34 days         26    4232.5       111                3   \n",
       "2      9931874 532 days          2     551.4       332                8   \n",
       "3      9931875 112 days          4     197.0       223                7   \n",
       "4      9931876 133 days          4     517.8       222                6   \n",
       "\n",
       "   RFM_Level  \n",
       "0  Potential  \n",
       "1  Champions  \n",
       "2  Potential  \n",
       "3  Potential  \n",
       "4  Potential  "
      ]
     },
     "execution_count": 90,
     "metadata": {},
     "output_type": "execute_result"
    }
   ],
   "source": [
    "# Create a new variable RFM_Level\n",
    "rfmf['RFM_Level'] = rfmf.apply(rfm_level, axis=1)\n",
    "rfmf.head()"
   ]
  },
  {
   "cell_type": "code",
   "execution_count": 91,
   "metadata": {
    "scrolled": true
   },
   "outputs": [
    {
     "data": {
      "image/png": "[encoded data removed]",
      "text/plain": [
       "<Figure size 1080x360 with 1 Axes>"
      ]
     },
     "metadata": {
      "needs_background": "light"
     },
     "output_type": "display_data"
    }
   ],
   "source": [
    "# Plot each possible combination in groups\n",
    "ax = rfmf['rfm_score'].value_counts().plot(kind='bar', figsize=(15, 5), fontsize=12)\n",
    "ax.set_xlabel(\"RFM Variations\", fontsize=12)\n",
    "ax.set_ylabel(\"Count\", fontsize=12)\n",
    "plt.show()"
   ]
  },
  {
   "cell_type": "code",
   "execution_count": 93,
   "metadata": {},
   "outputs": [
    {
     "data": {
      "image/png": "[encoded data removed]",
      "text/plain": [
       "<Figure size 1080x360 with 1 Axes>"
      ]
     },
     "metadata": {
      "needs_background": "light"
     },
     "output_type": "display_data"
    }
   ],
   "source": [
    "# Plot rfm score totals in groups\n",
    "ax = rfmf['rfm_score_total'].value_counts().plot(kind='bar', figsize=(15, 5), fontsize=12)\n",
    "ax.set_xlabel(\"RFM Score Totals\", fontsize=12)\n",
    "ax.set_ylabel(\"Count\", fontsize=12)\n",
    "plt.show()"
   ]
  },
  {
   "cell_type": "code",
   "execution_count": 94,
   "metadata": {},
   "outputs": [
    {
     "data": {
      "image/png": "[encoded data removed]",
      "text/plain": [
       "<Figure size 1080x360 with 1 Axes>"
      ]
     },
     "metadata": {
      "needs_background": "light"
     },
     "output_type": "display_data"
    }
   ],
   "source": [
    "## Plot final groups\n",
    "ax = rfmf['RFM_Level'].value_counts().plot(kind='bar', figsize=(15, 5), fontsize=12)\n",
    "ax.set_xlabel(\"RFM Level Score\", fontsize=12)\n",
    "ax.set_ylabel(\"Count\", fontsize=12)\n",
    "plt.show()"
   ]
  },
  {
   "cell_type": "code",
   "execution_count": null,
   "metadata": {},
   "outputs": [],
   "source": []
  }
 ],
 "metadata": {
  "kernelspec": {
   "display_name": "Python 3",
   "language": "python",
   "name": "python3"
  },
  "language_info": {
   "codemirror_mode": {
    "name": "ipython",
    "version": 3
   },
   "file_extension": ".py",
   "mimetype": "text/x-python",
   "name": "python",
   "nbconvert_exporter": "python",
   "pygments_lexer": "ipython3",
   "version": "3.8.3"
  }
 },
 "nbformat": 4,
 "nbformat_minor": 4
}
